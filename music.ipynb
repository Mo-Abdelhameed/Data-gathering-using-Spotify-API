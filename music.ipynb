{
 "cells": [
  {
   "cell_type": "code",
   "execution_count": 325,
   "metadata": {},
   "outputs": [],
   "source": [
    "import requests\n",
    "\n",
    "# Your app's client ID and secret\n",
    "CLIENT_ID = 'Put your CLIENT_ID'\n",
    "CLIENT_SECRET = 'Put your CLIENT_SECRET'"
   ]
  },
  {
   "cell_type": "markdown",
   "metadata": {},
   "source": [
    "### Getting top 200 songs by year from 1962 to 2023 from billboard package."
   ]
  },
  {
   "cell_type": "code",
   "execution_count": 267,
   "metadata": {},
   "outputs": [],
   "source": [
    "chart_names = ['country-songs', 'hot-rock-songs', 'r-b-hip-hop-songs', 'dance-electronic-songs', 'latin-songs', 'jazz-songs']"
   ]
  },
  {
   "cell_type": "code",
   "execution_count": null,
   "metadata": {},
   "outputs": [],
   "source": [
    "song_title = []\n",
    "artists = []\n",
    "category = []\n",
    "import billboard\n",
    "for chart_name in chart_names:\n",
    "    for year in range(1960, 2024):\n",
    "        chart = billboard.ChartData(name=chart_name, date=f'{year}-09-12')\n",
    "        for song in chart:\n",
    "            song_title.append(song.title)\n",
    "            artists.append(song.artist)\n",
    "            category.append(chart_name)\n"
   ]
  },
  {
   "cell_type": "code",
   "execution_count": 318,
   "metadata": {},
   "outputs": [
    {
     "data": {
      "text/plain": [
       "(18554, 18554, 18554)"
      ]
     },
     "execution_count": 318,
     "metadata": {},
     "output_type": "execute_result"
    }
   ],
   "source": [
    "len(song_title), len(artists), len(category)"
   ]
  },
  {
   "cell_type": "code",
   "execution_count": 319,
   "metadata": {},
   "outputs": [
    {
     "data": {
      "text/plain": [
       "(['Alabam', \"Please Help Me, I'm Falling\"],\n",
       " ['Cowboy Copas', 'Hank Locklin'],\n",
       " ['country-songs', 'country-songs'])"
      ]
     },
     "execution_count": 319,
     "metadata": {},
     "output_type": "execute_result"
    }
   ],
   "source": [
    "song_title[:2], artists[:2], category[:2]"
   ]
  },
  {
   "cell_type": "code",
   "execution_count": 320,
   "metadata": {},
   "outputs": [
    {
     "data": {
      "text/plain": [
       "(18554, 11947)"
      ]
     },
     "execution_count": 320,
     "metadata": {},
     "output_type": "execute_result"
    }
   ],
   "source": [
    "len(song_title), len(set(song_title))"
   ]
  },
  {
   "cell_type": "markdown",
   "metadata": {},
   "source": [
    "### Remove duplicate songs."
   ]
  },
  {
   "cell_type": "code",
   "execution_count": 321,
   "metadata": {},
   "outputs": [],
   "source": [
    "def remove_duplicates(song_names, artist_names, category_names):\n",
    "    # Use a set to keep track of seen songs\n",
    "    seen_songs = set()\n",
    "    \n",
    "    # Lists to hold unique songs and corresponding artists\n",
    "    unique_songs = []\n",
    "    unique_artists = []\n",
    "    unique_category =[]\n",
    "    \n",
    "    for song, artist, category in zip(song_names, artist_names, category_names):\n",
    "        # Use a tuple of song and artist as the unique identifier for a track\n",
    "        track = (song, artist, category)\n",
    "        if track not in seen_songs:\n",
    "            seen_songs.add(track)\n",
    "            unique_songs.append(song)\n",
    "            unique_artists.append(artist)\n",
    "            unique_category.append(category)\n",
    "    \n",
    "    return unique_songs, unique_artists, unique_category\n",
    "\n",
    "filtered_songs, filtered_artists, filtered_category = remove_duplicates(song_title, artists, category)"
   ]
  },
  {
   "cell_type": "code",
   "execution_count": 322,
   "metadata": {},
   "outputs": [
    {
     "data": {
      "text/plain": [
       "(12864, 12864, 12864)"
      ]
     },
     "execution_count": 322,
     "metadata": {},
     "output_type": "execute_result"
    }
   ],
   "source": [
    "len(filtered_songs), len(filtered_artists), len(filtered_category)"
   ]
  },
  {
   "cell_type": "markdown",
   "metadata": {},
   "source": [
    "### Functions to Call Spotify APIs.\n"
   ]
  },
  {
   "cell_type": "code",
   "execution_count": 276,
   "metadata": {},
   "outputs": [],
   "source": [
    "def get_track_id(song_name, access_token, artist_name=None):\n",
    "    \"\"\"Search for a track by its name and artist and return its ID.\"\"\"\n",
    "    base_url = \"https://api.spotify.com/v1/search\"\n",
    "    headers = {\n",
    "        \"Authorization\": f\"Bearer {access_token}\"\n",
    "    }\n",
    "    query = song_name\n",
    "    if artist_name:\n",
    "        query += f\" artist:{artist_name}\"\n",
    "    params = {\n",
    "        \"q\": query,\n",
    "        \"type\": \"track\",\n",
    "        \"limit\": 1  # We're only interested in the first result for this example\n",
    "    }\n",
    "    response = requests.get(base_url, headers=headers, params=params)\n",
    "    data = response.json()\n",
    "\n",
    "    \n",
    "    # Extract the track ID from the first result\n",
    "    tracks = data.get(\"tracks\", {}).get(\"items\", [])\n",
    "    if tracks:\n",
    "        return tracks[0].get(\"id\")\n",
    "    else:\n",
    "        return None\n",
    "    \n",
    "def get_access_token():\n",
    "    auth_url = 'https://accounts.spotify.com/api/token'\n",
    "    auth_response = requests.post(auth_url, {\n",
    "        'grant_type': 'client_credentials',\n",
    "        'client_id': CLIENT_ID,\n",
    "        'client_secret': CLIENT_SECRET,\n",
    "    })\n",
    "    auth_response_data = auth_response.json()\n",
    "    return auth_response_data['access_token']\n",
    "\n",
    "\n",
    "def get_audio_features_for_multiple_tracks(track_ids, access_token):\n",
    "    base_url = \"https://api.spotify.com/v1/audio-features\"\n",
    "    headers = {\n",
    "        \"Authorization\": f\"Bearer {access_token}\"\n",
    "    }\n",
    "    params = {\n",
    "        \"ids\": \",\".join(track_ids)\n",
    "    }\n",
    "    response = requests.get(base_url, headers=headers, params=params)\n",
    "    return response.json().get(\"audio_features\", [])\n",
    "\n",
    "def get_track_details(track_ids, access_token):\n",
    "    \"\"\"\n",
    "    Retrieve details for multiple tracks using the Spotify API.\n",
    "    \n",
    "    Parameters:\n",
    "    - track_ids: A list of track IDs.\n",
    "    - access_token: Your Spotify access token.\n",
    "    \n",
    "    Returns:\n",
    "    A list of track details.\n",
    "    \"\"\"\n",
    "    base_url = \"https://api.spotify.com/v1/tracks\"\n",
    "    headers = {\n",
    "        \"Authorization\": f\"Bearer {access_token}\"\n",
    "    }\n",
    "    params = {\n",
    "        \"ids\": \",\".join(track_ids)  # Convert list of track IDs to comma-separated string\n",
    "    }\n",
    "    \n",
    "    response = requests.get(base_url, headers=headers, params=params)\n",
    "    data = response.json()\n",
    "    return data.get(\"tracks\", [])"
   ]
  },
  {
   "cell_type": "code",
   "execution_count": 323,
   "metadata": {},
   "outputs": [],
   "source": [
    "track_ids = []"
   ]
  },
  {
   "cell_type": "markdown",
   "metadata": {},
   "source": [
    "### Obtain the ids of the tracks."
   ]
  },
  {
   "cell_type": "code",
   "execution_count": null,
   "metadata": {},
   "outputs": [],
   "source": [
    "access_token = get_access_token()\n",
    "\n",
    "for i in range(len(filtered_songs)):\n",
    "    id = get_track_id(song_name=filtered_songs[i], artist_name=filtered_artists[i], access_token=access_token)\n",
    "    track_ids.append((id, filtered_category[i]))\n"
   ]
  },
  {
   "cell_type": "code",
   "execution_count": 330,
   "metadata": {},
   "outputs": [
    {
     "data": {
      "text/plain": [
       "12864"
      ]
     },
     "execution_count": 330,
     "metadata": {},
     "output_type": "execute_result"
    }
   ],
   "source": [
    "len(track_ids)"
   ]
  },
  {
   "cell_type": "code",
   "execution_count": 342,
   "metadata": {},
   "outputs": [
    {
     "data": {
      "text/plain": [
       "[('5eURshOQPzQWBEBCJivKsi', 'country-songs'),\n",
       " ('3eTYeAOll7LaINGjv9Fnvi', 'country-songs'),\n",
       " ('62WC0WPprLsyw3hpTZAeBJ', 'country-songs'),\n",
       " ('4EUL6WeHpGltSOBSQwDWNA', 'country-songs'),\n",
       " ('5MXe6dKcR6iO33GWzVW8cr', 'country-songs')]"
      ]
     },
     "execution_count": 342,
     "metadata": {},
     "output_type": "execute_result"
    }
   ],
   "source": [
    "all_ids = [tuplee for tuplee in track_ids if tuplee[0] is not None]\n",
    "all_ids[:5]"
   ]
  },
  {
   "cell_type": "markdown",
   "metadata": {},
   "source": [
    "### Get the audio features from the API. For more info: https://developer.spotify.com/documentation/web-api/reference/get-audio-features"
   ]
  },
  {
   "cell_type": "code",
   "execution_count": null,
   "metadata": {},
   "outputs": [],
   "source": [
    "audio_features = []\n",
    "categories = []\n",
    "access_token = get_access_token()\n",
    "for i in range(0, len(all_ids), 100):\n",
    "    tuples = all_ids[i:i+100]\n",
    "    ids = [id[0] for id in tuples]\n",
    "    categories_t = [id[1] for id in tuples]\n",
    "    features = get_audio_features_for_multiple_tracks(ids, access_token=access_token)\n",
    "    audio_features.append(features)\n",
    "    categories.append(categories_t)"
   ]
  },
  {
   "cell_type": "markdown",
   "metadata": {},
   "source": [
    "### Get track details (name, artists and release date.)"
   ]
  },
  {
   "cell_type": "code",
   "execution_count": null,
   "metadata": {},
   "outputs": [],
   "source": [
    "track_details = []\n",
    "for i in range(0, len(all_ids), 50):\n",
    "    tuples = all_ids[i:i+50]\n",
    "    ids = [id[0] for id in tuples]\n",
    "    details = get_track_details(ids, access_token=access_token)\n",
    "    track_details.append(details)"
   ]
  },
  {
   "cell_type": "code",
   "execution_count": 385,
   "metadata": {},
   "outputs": [
    {
     "data": {
      "text/plain": [
       "['categories.joblib']"
      ]
     },
     "execution_count": 385,
     "metadata": {},
     "output_type": "execute_result"
    }
   ],
   "source": [
    "from joblib import dump\n",
    "dump(audio_features, 'audio_features.joblib')\n",
    "dump(track_details, 'track_details.joblib')\n",
    "dump(categories, 'categories.joblib')"
   ]
  },
  {
   "cell_type": "code",
   "execution_count": 4,
   "metadata": {},
   "outputs": [],
   "source": [
    "from joblib import load\n",
    "audio_features = load('audio_features.joblib')\n",
    "track_details = load('track_details.joblib')\n",
    "categories = load('categories.joblib')"
   ]
  },
  {
   "cell_type": "code",
   "execution_count": 5,
   "metadata": {},
   "outputs": [],
   "source": [
    "final_features = []\n",
    "for a in audio_features:\n",
    "    for aa in a:\n",
    "        final_features.append(aa)"
   ]
  },
  {
   "cell_type": "code",
   "execution_count": 6,
   "metadata": {},
   "outputs": [],
   "source": [
    "final_details = []\n",
    "for a in track_details:\n",
    "    for aa in a:\n",
    "        final_details.append(aa)"
   ]
  },
  {
   "cell_type": "code",
   "execution_count": 7,
   "metadata": {},
   "outputs": [],
   "source": [
    "final_categories = []\n",
    "for a in categories:\n",
    "    for aa in a:\n",
    "        final_categories.append(aa)"
   ]
  },
  {
   "cell_type": "code",
   "execution_count": 8,
   "metadata": {},
   "outputs": [],
   "source": [
    "def extract_track_and_artist(track_details):\n",
    "    \"\"\"\n",
    "    Extract track names and artist names from track details.\n",
    "    \n",
    "    Parameters:\n",
    "    - track_details: A list of track details (as retrieved from the Spotify API).\n",
    "    \n",
    "    Returns:\n",
    "    A list of dictionaries. Each dictionary has 'track_name' and 'artist_names' as keys.\n",
    "    \"\"\"\n",
    "    result = []\n",
    "    \n",
    "    for track in track_details:\n",
    "        track_name = track.get(\"name\")\n",
    "        track_date = track.get(\"album\").get(\"release_date\")\n",
    "        artist_names = [artist[\"name\"] for artist in track.get(\"artists\", [])]\n",
    "        result.append({\n",
    "            \"track_name\": track_name,\n",
    "            \"artist_names\": artist_names,\n",
    "            \"release_date\": track_date,\n",
    "            \n",
    "        })\n",
    "    \n",
    "    return result"
   ]
  },
  {
   "cell_type": "code",
   "execution_count": 9,
   "metadata": {},
   "outputs": [],
   "source": [
    "detailss = extract_track_and_artist(track_details=final_details)"
   ]
  },
  {
   "cell_type": "markdown",
   "metadata": {},
   "source": [
    "### Create the DataFrame."
   ]
  },
  {
   "cell_type": "code",
   "execution_count": 10,
   "metadata": {},
   "outputs": [],
   "source": [
    "import pandas as pd\n",
    "import warnings\n",
    "warnings.filterwarnings('ignore')\n",
    "df = pd.DataFrame()\n",
    "\n",
    "for features, name, category in zip(final_features, detailss, final_categories):\n",
    "   if features == None:\n",
    "      continue\n",
    "   features['track_name'] = name['track_name']\n",
    "   features['artists_names'] = name['artist_names']\n",
    "   features['release_date'] = name['release_date']\n",
    "   features['chart_name'] = category\n",
    "\n",
    "   df = df.append(features, ignore_index=True)"
   ]
  },
  {
   "cell_type": "code",
   "execution_count": 394,
   "metadata": {},
   "outputs": [],
   "source": [
    "df.to_csv('music_v2.csv', index=False)"
   ]
  },
  {
   "cell_type": "code",
   "execution_count": 11,
   "metadata": {},
   "outputs": [
    {
     "data": {
      "text/html": [
       "<div>\n",
       "<style scoped>\n",
       "    .dataframe tbody tr th:only-of-type {\n",
       "        vertical-align: middle;\n",
       "    }\n",
       "\n",
       "    .dataframe tbody tr th {\n",
       "        vertical-align: top;\n",
       "    }\n",
       "\n",
       "    .dataframe thead th {\n",
       "        text-align: right;\n",
       "    }\n",
       "</style>\n",
       "<table border=\"1\" class=\"dataframe\">\n",
       "  <thead>\n",
       "    <tr style=\"text-align: right;\">\n",
       "      <th></th>\n",
       "      <th>danceability</th>\n",
       "      <th>energy</th>\n",
       "      <th>key</th>\n",
       "      <th>loudness</th>\n",
       "      <th>mode</th>\n",
       "      <th>speechiness</th>\n",
       "      <th>acousticness</th>\n",
       "      <th>instrumentalness</th>\n",
       "      <th>liveness</th>\n",
       "      <th>valence</th>\n",
       "      <th>...</th>\n",
       "      <th>id</th>\n",
       "      <th>uri</th>\n",
       "      <th>track_href</th>\n",
       "      <th>analysis_url</th>\n",
       "      <th>duration_ms</th>\n",
       "      <th>time_signature</th>\n",
       "      <th>track_name</th>\n",
       "      <th>artists_names</th>\n",
       "      <th>release_date</th>\n",
       "      <th>chart_name</th>\n",
       "    </tr>\n",
       "  </thead>\n",
       "  <tbody>\n",
       "    <tr>\n",
       "      <th>0</th>\n",
       "      <td>0.759</td>\n",
       "      <td>0.675</td>\n",
       "      <td>2</td>\n",
       "      <td>-10.281</td>\n",
       "      <td>1</td>\n",
       "      <td>0.0268</td>\n",
       "      <td>0.291</td>\n",
       "      <td>0.000165</td>\n",
       "      <td>0.146</td>\n",
       "      <td>0.961</td>\n",
       "      <td>...</td>\n",
       "      <td>5eURshOQPzQWBEBCJivKsi</td>\n",
       "      <td>spotify:track:5eURshOQPzQWBEBCJivKsi</td>\n",
       "      <td>https://api.spotify.com/v1/tracks/5eURshOQPzQW...</td>\n",
       "      <td>https://api.spotify.com/v1/audio-analysis/5eUR...</td>\n",
       "      <td>141347</td>\n",
       "      <td>4</td>\n",
       "      <td>Alabam</td>\n",
       "      <td>[Cowboy Copas]</td>\n",
       "      <td>2005</td>\n",
       "      <td>country-songs</td>\n",
       "    </tr>\n",
       "    <tr>\n",
       "      <th>1</th>\n",
       "      <td>0.557</td>\n",
       "      <td>0.388</td>\n",
       "      <td>7</td>\n",
       "      <td>-9.464</td>\n",
       "      <td>1</td>\n",
       "      <td>0.0259</td>\n",
       "      <td>0.731</td>\n",
       "      <td>0.000000</td>\n",
       "      <td>0.306</td>\n",
       "      <td>0.504</td>\n",
       "      <td>...</td>\n",
       "      <td>3eTYeAOll7LaINGjv9Fnvi</td>\n",
       "      <td>spotify:track:3eTYeAOll7LaINGjv9Fnvi</td>\n",
       "      <td>https://api.spotify.com/v1/tracks/3eTYeAOll7La...</td>\n",
       "      <td>https://api.spotify.com/v1/audio-analysis/3eTY...</td>\n",
       "      <td>144867</td>\n",
       "      <td>4</td>\n",
       "      <td>Please Help Me I'm Falling</td>\n",
       "      <td>[Hank Locklin]</td>\n",
       "      <td>1996-01-01</td>\n",
       "      <td>country-songs</td>\n",
       "    </tr>\n",
       "    <tr>\n",
       "      <th>2</th>\n",
       "      <td>0.589</td>\n",
       "      <td>0.447</td>\n",
       "      <td>4</td>\n",
       "      <td>-11.458</td>\n",
       "      <td>1</td>\n",
       "      <td>0.0303</td>\n",
       "      <td>0.500</td>\n",
       "      <td>0.000209</td>\n",
       "      <td>0.230</td>\n",
       "      <td>0.903</td>\n",
       "      <td>...</td>\n",
       "      <td>62WC0WPprLsyw3hpTZAeBJ</td>\n",
       "      <td>spotify:track:62WC0WPprLsyw3hpTZAeBJ</td>\n",
       "      <td>https://api.spotify.com/v1/tracks/62WC0WPprLsy...</td>\n",
       "      <td>https://api.spotify.com/v1/audio-analysis/62WC...</td>\n",
       "      <td>161232</td>\n",
       "      <td>4</td>\n",
       "      <td>Anymore</td>\n",
       "      <td>[Roy Drusky]</td>\n",
       "      <td>1978-01-01</td>\n",
       "      <td>country-songs</td>\n",
       "    </tr>\n",
       "    <tr>\n",
       "      <th>3</th>\n",
       "      <td>0.466</td>\n",
       "      <td>0.143</td>\n",
       "      <td>7</td>\n",
       "      <td>-17.569</td>\n",
       "      <td>1</td>\n",
       "      <td>0.0312</td>\n",
       "      <td>0.903</td>\n",
       "      <td>0.003190</td>\n",
       "      <td>0.107</td>\n",
       "      <td>0.283</td>\n",
       "      <td>...</td>\n",
       "      <td>4EUL6WeHpGltSOBSQwDWNA</td>\n",
       "      <td>spotify:track:4EUL6WeHpGltSOBSQwDWNA</td>\n",
       "      <td>https://api.spotify.com/v1/tracks/4EUL6WeHpGlt...</td>\n",
       "      <td>https://api.spotify.com/v1/audio-analysis/4EUL...</td>\n",
       "      <td>135200</td>\n",
       "      <td>4</td>\n",
       "      <td>I'm Gettin' Better</td>\n",
       "      <td>[Jim Reeves]</td>\n",
       "      <td>1997-02-14</td>\n",
       "      <td>country-songs</td>\n",
       "    </tr>\n",
       "    <tr>\n",
       "      <th>4</th>\n",
       "      <td>0.617</td>\n",
       "      <td>0.197</td>\n",
       "      <td>9</td>\n",
       "      <td>-12.145</td>\n",
       "      <td>1</td>\n",
       "      <td>0.0267</td>\n",
       "      <td>0.777</td>\n",
       "      <td>0.000000</td>\n",
       "      <td>0.133</td>\n",
       "      <td>0.384</td>\n",
       "      <td>...</td>\n",
       "      <td>5MXe6dKcR6iO33GWzVW8cr</td>\n",
       "      <td>spotify:track:5MXe6dKcR6iO33GWzVW8cr</td>\n",
       "      <td>https://api.spotify.com/v1/tracks/5MXe6dKcR6iO...</td>\n",
       "      <td>https://api.spotify.com/v1/audio-analysis/5MXe...</td>\n",
       "      <td>165267</td>\n",
       "      <td>4</td>\n",
       "      <td>(I Can't Help You) I'm Falling Too</td>\n",
       "      <td>[Skeeter Davis]</td>\n",
       "      <td>1994-05-23</td>\n",
       "      <td>country-songs</td>\n",
       "    </tr>\n",
       "  </tbody>\n",
       "</table>\n",
       "<p>5 rows × 22 columns</p>\n",
       "</div>"
      ],
      "text/plain": [
       "   danceability  energy  key  loudness  mode  speechiness  acousticness  \\\n",
       "0         0.759   0.675    2   -10.281     1       0.0268         0.291   \n",
       "1         0.557   0.388    7    -9.464     1       0.0259         0.731   \n",
       "2         0.589   0.447    4   -11.458     1       0.0303         0.500   \n",
       "3         0.466   0.143    7   -17.569     1       0.0312         0.903   \n",
       "4         0.617   0.197    9   -12.145     1       0.0267         0.777   \n",
       "\n",
       "   instrumentalness  liveness  valence  ...                      id  \\\n",
       "0          0.000165     0.146    0.961  ...  5eURshOQPzQWBEBCJivKsi   \n",
       "1          0.000000     0.306    0.504  ...  3eTYeAOll7LaINGjv9Fnvi   \n",
       "2          0.000209     0.230    0.903  ...  62WC0WPprLsyw3hpTZAeBJ   \n",
       "3          0.003190     0.107    0.283  ...  4EUL6WeHpGltSOBSQwDWNA   \n",
       "4          0.000000     0.133    0.384  ...  5MXe6dKcR6iO33GWzVW8cr   \n",
       "\n",
       "                                    uri  \\\n",
       "0  spotify:track:5eURshOQPzQWBEBCJivKsi   \n",
       "1  spotify:track:3eTYeAOll7LaINGjv9Fnvi   \n",
       "2  spotify:track:62WC0WPprLsyw3hpTZAeBJ   \n",
       "3  spotify:track:4EUL6WeHpGltSOBSQwDWNA   \n",
       "4  spotify:track:5MXe6dKcR6iO33GWzVW8cr   \n",
       "\n",
       "                                          track_href  \\\n",
       "0  https://api.spotify.com/v1/tracks/5eURshOQPzQW...   \n",
       "1  https://api.spotify.com/v1/tracks/3eTYeAOll7La...   \n",
       "2  https://api.spotify.com/v1/tracks/62WC0WPprLsy...   \n",
       "3  https://api.spotify.com/v1/tracks/4EUL6WeHpGlt...   \n",
       "4  https://api.spotify.com/v1/tracks/5MXe6dKcR6iO...   \n",
       "\n",
       "                                        analysis_url duration_ms  \\\n",
       "0  https://api.spotify.com/v1/audio-analysis/5eUR...      141347   \n",
       "1  https://api.spotify.com/v1/audio-analysis/3eTY...      144867   \n",
       "2  https://api.spotify.com/v1/audio-analysis/62WC...      161232   \n",
       "3  https://api.spotify.com/v1/audio-analysis/4EUL...      135200   \n",
       "4  https://api.spotify.com/v1/audio-analysis/5MXe...      165267   \n",
       "\n",
       "  time_signature                          track_name    artists_names  \\\n",
       "0              4                              Alabam   [Cowboy Copas]   \n",
       "1              4          Please Help Me I'm Falling   [Hank Locklin]   \n",
       "2              4                             Anymore     [Roy Drusky]   \n",
       "3              4                  I'm Gettin' Better     [Jim Reeves]   \n",
       "4              4  (I Can't Help You) I'm Falling Too  [Skeeter Davis]   \n",
       "\n",
       "  release_date     chart_name  \n",
       "0         2005  country-songs  \n",
       "1   1996-01-01  country-songs  \n",
       "2   1978-01-01  country-songs  \n",
       "3   1997-02-14  country-songs  \n",
       "4   1994-05-23  country-songs  \n",
       "\n",
       "[5 rows x 22 columns]"
      ]
     },
     "execution_count": 11,
     "metadata": {},
     "output_type": "execute_result"
    }
   ],
   "source": [
    "df.head()"
   ]
  },
  {
   "cell_type": "code",
   "execution_count": null,
   "metadata": {},
   "outputs": [],
   "source": []
  }
 ],
 "metadata": {
  "kernelspec": {
   "display_name": "Python 3",
   "language": "python",
   "name": "python3"
  },
  "language_info": {
   "codemirror_mode": {
    "name": "ipython",
    "version": 3
   },
   "file_extension": ".py",
   "mimetype": "text/x-python",
   "name": "python",
   "nbconvert_exporter": "python",
   "pygments_lexer": "ipython3",
   "version": "3.10.8"
  },
  "orig_nbformat": 4
 },
 "nbformat": 4,
 "nbformat_minor": 2
}
